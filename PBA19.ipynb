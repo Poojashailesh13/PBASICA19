{
 "cells": [
  {
   "cell_type": "raw",
   "id": "fd8bac5d",
   "metadata": {},
   "source": [
    "1. Make a class called Thing with no contents and print it. Then, create an object called example\n",
    "from this class and also print it. Are the printed values the same or different?\n",
    "ANS- class thing:\n",
    "    pass\n",
    "class example(thing):\n",
    "    pass\n",
    "example\n",
    "thing"
   ]
  },
  {
   "cell_type": "raw",
   "id": "33376fdd",
   "metadata": {},
   "source": [
    "2. Create a new class called Thing2 and add the value &#39;abc&#39; to the letters class attribute. Letters\n",
    "should be printed.\n",
    "ANS- class thing2:\n",
    "    letters = 'abc'\n",
    "thing2.lettersclass thing2:\n",
    "    letters = 'abc'\n",
    "thing2.letters"
   ]
  },
  {
   "cell_type": "raw",
   "id": "3293fe53",
   "metadata": {},
   "source": [
    "3. Make yet another class called, of course, Thing3. This time, assign the value 'xyz' to an instance (object) attribute called letters. Print letters. Do you need to make an object from the class to do this?\n",
    "ANS- class things3:\n",
    "    letters = 'xyz'\n",
    "    \n",
    "things3.letters"
   ]
  },
  {
   "cell_type": "raw",
   "id": "0b6a67ab",
   "metadata": {},
   "source": [
    "4. Create an Element class with the instance attributes name, symbol, and number. Create a class object with the values 'Hydrogen,' 'H,' and 1.\n",
    "ANS- class element:\n",
    "    def __init__(self,name,symbol,number):\n",
    "        self.name = name\n",
    "        self.symbol = symbol\n",
    "        self.number = number\n",
    "        print(\"\\n name: {} \\n symbol: {} \\n number: {}\".format(self.name,self.symbol,self.number))\n",
    "    \n",
    "    \n",
    "ele = element('hydrogen', 'H', 1)\n",
    "print(ele)"
   ]
  },
  {
   "cell_type": "raw",
   "id": "548fca4e",
   "metadata": {},
   "source": [
    "5. Make a dictionary with these keys and values: 'name': 'Hydrogen', 'symbol': 'H', 'number': 1. Then, create an object called hydrogen from class Element using this dictionary.\n",
    "ANS- ele_dict = {'name': 'Hydrogen', 'symbol': 'H', 'number': 1}\n",
    "\n",
    "hydrogen = element(**ele_dict) #single * gives key, ** gives values\n",
    "print(hydrogen)\n",
    "    "
   ]
  },
  {
   "cell_type": "raw",
   "id": "ccaecb6f",
   "metadata": {},
   "source": [
    "6. For the Element class, define a method called dump() that prints the values of the object’s\n",
    "attributes (name, symbol, and number). Create the hydrogen object from this new definition and\n",
    "use dump() to print its attributes.\n",
    "ANS- class element:\n",
    "    def __init__(self,name,symbol,number):\n",
    "        self.name = name\n",
    "        self.symbol = symbol\n",
    "        self.number = number\n",
    "    \n",
    "    def dump(self):\n",
    "        print(self.name,self.symbol,self.number)\n",
    "hydrogen = element('hydrogen', 'H', 1)\n",
    "hydrogen.dump()"
   ]
  },
  {
   "cell_type": "raw",
   "id": "9b73dbf5",
   "metadata": {},
   "source": [
    "7. Call print(hydrogen). In the definition of Element, change the name of method dump to __str__,\n",
    "create a new hydrogen object, and call print(hydrogen) again.\n",
    "ANS- class element:\n",
    "    def __init__(self,name,symbol,number):\n",
    "        self.name = name\n",
    "        self.symbol = symbol\n",
    "        self.number = number\n",
    "        \n",
    "    \n",
    "    def __str__(self):\n",
    "        return \"\\n name: {} \\n symbol: {} \\n number: {}\".format(self.name,self.symbol,self.number)\n",
    "\n",
    "hydrogen = element('hydrogen', 'H', 1)\n",
    "print(hydrogen)"
   ]
  },
  {
   "cell_type": "raw",
   "id": "c79fafbd",
   "metadata": {},
   "source": [
    "8. Modify Element to make the attributes name, symbol, and number private. Define a getter\n",
    "property for each to return its value.\n",
    "ANS- class element:\n",
    "    def __init__(self,name,symbol,number):\n",
    "        self.name = name\n",
    "        self.symbol = symbol\n",
    "        self.number = number\n",
    "    \n",
    "    def name(self):\n",
    "        return self.__name\n",
    "    \n",
    "    def symbol(self):\n",
    "        return self.__symbol\n",
    "    \n",
    "    def number(self):\n",
    "        return self.__number\n",
    "\n",
    "ele = element(\"rushikesh\",\"rmp\", '91')\n",
    "\n",
    "print(ele.name+\"\\n\"+ele.symbol+\"\\n\"+ele.number )\n"
   ]
  },
  {
   "cell_type": "raw",
   "id": "ea5545bd",
   "metadata": {},
   "source": [
    "9. Define three classes: Bear, Rabbit, and Octothorpe. For each, define only one method: eats(). This should return 'berries' (Bear), 'clover' (Rabbit), or 'campers' (Octothorpe). Create one object from each and print what it eats.\n",
    "ANS- class bear:\n",
    "    def eat(self):\n",
    "        return \"berries\"\n",
    "\n",
    "class rabbit:\n",
    "    def eat(self):\n",
    "        return \"clover\"\n",
    "\n",
    "class octothorpe:\n",
    "    def eat(self):\n",
    "        return \"campers\"\n",
    "        \n",
    "        \n",
    "        \n",
    "b = bear()\n",
    "r = rabbit()\n",
    "o = octothorpe()\n",
    "\n",
    "print(b.eat())\n",
    "print(r.eat())\n",
    "print(o.eat())\n",
    "        "
   ]
  },
  {
   "cell_type": "raw",
   "id": "a33bfe33",
   "metadata": {},
   "source": [
    "10. Define these classes: Laser, Claw, and SmartPhone. Each has only one method: does(). This returns 'disintegrate' (Laser), 'crush' (Claw), or 'ring' (SmartPhone). Then, define the class Robot that has one instance (object) of each of these. Define a does() method for the Robot that prints what its component objects do.\n",
    "ANS- \n",
    "class laser:\n",
    "    def does(self):\n",
    "        return \"disintegrate\"\n",
    "    \n",
    "class claw:\n",
    "    def does(self):\n",
    "        return \"crush\"\n",
    "    \n",
    "class smartphone:\n",
    "    def does(self):\n",
    "        return \"ring\"\n",
    "    \n",
    "class robot:\n",
    "    def __init__(self, laser, claw, smartphone):\n",
    "        self.laser = laser\n",
    "        self.claw = claw\n",
    "        self.smartphone = smartphone\n",
    "    \n",
    "    def does(self):\n",
    "        print(self.laser.does(),self.claw.does(), self.smartphone.does())\n",
    "        \n",
    "l = laser()\n",
    "c = claw()\n",
    "s = smartphone()\n",
    "robot = robot(l,c,s)\n",
    "robot.does()"
   ]
  }
 ],
 "metadata": {
  "kernelspec": {
   "display_name": "Python 3 (ipykernel)",
   "language": "python",
   "name": "python3"
  },
  "language_info": {
   "codemirror_mode": {
    "name": "ipython",
    "version": 3
   },
   "file_extension": ".py",
   "mimetype": "text/x-python",
   "name": "python",
   "nbconvert_exporter": "python",
   "pygments_lexer": "ipython3",
   "version": "3.9.7"
  }
 },
 "nbformat": 4,
 "nbformat_minor": 5
}
